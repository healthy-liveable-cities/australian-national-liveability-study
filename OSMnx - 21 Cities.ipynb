{
 "cells": [
  {
   "cell_type": "markdown",
   "metadata": {},
   "source": [
    "# Pedestrian street networks for 21 cities\n",
    "Using OpenStreetMap as a source for \n",
    "* complete road network, and \n",
    "* a pedestrian 'walk/cycle'network. \n",
    "* calculating intersection density for the pedestrian network\n",
    "\n",
    "The process iterates over a list of city names, whose 10km buffered boundary shape files have been pre-prepared.\n",
    "\n",
    "Carl Higgs\n",
    "1 October 2018"
   ]
  },
  {
   "cell_type": "markdown",
   "metadata": {},
   "source": [
    "## OSM set up"
   ]
  },
  {
   "cell_type": "code",
   "execution_count": 2,
   "metadata": {
    "collapsed": true
   },
   "outputs": [],
   "source": [
    "# Libraries used for OSM conversion\n",
    "import os\n",
    "import sys\n",
    "import subprocess as sp\n",
    "from datetime import datetime\n",
    "\n",
    "# Libraries used for OSMnx analyses and output\n",
    "import networkx as nx\n",
    "import osmnx as ox\n",
    "import requests\n",
    "import fiona\n",
    "ox.config(use_cache=True, log_console=True)\n",
    "ox.__version__\n",
    "\n",
    "from shapely.geometry import shape, MultiPolygon, Polygon\n",
    "\n",
    "# define pedestrian network custom filter (based on OSMnx 'walk' network type, without the cycling exclusion)\n",
    "pedestrian = (\n",
    "             '[\"area\"!~\"yes\"]' \n",
    "             '[\"highway\"!~\"motor|proposed|construction|abandoned|platform|raceway\"]'\n",
    "             '[\"foot\"!~\"no\"]'  \n",
    "             '[\"service\"!~\"private\"]' \n",
    "             '[\"access\"!~\"private\"]'\n",
    "             )"
   ]
  },
  {
   "cell_type": "code",
   "execution_count": 15,
   "metadata": {
    "collapsed": true
   },
   "outputs": [],
   "source": [
    "\n",
    "## This script sourced from OSM wiki is used to convert a poly filter file into a shapely polygon\n",
    "## The idea was that this could be used in OSMnx in lieu of a shape file, since the poly files already existed.\n",
    "## In practice, shape files proved more convenient and this function should be checked to confirm proper\n",
    "## expected functionality, before use in earnest.\n",
    "def parse_poly(lines):\n",
    "    \"\"\" Parse an Osmosis polygon filter file.\n",
    "\n",
    "        Accept a sequence of lines from a polygon file, return a shapely.geometry.MultiPolygon object.\n",
    "\n",
    "        http://wiki.openstreetmap.org/wiki/Osmosis/Polygon_Filter_File_Format\n",
    "    \"\"\"\n",
    "    in_ring = False\n",
    "    coords = []\n",
    "    \n",
    "    for (index, line) in enumerate(lines):\n",
    "        if index == 0:\n",
    "            # first line is junk.\n",
    "            continue\n",
    "        \n",
    "        elif index == 1:\n",
    "            # second line is the first polygon ring.\n",
    "            coords.append([[], []])\n",
    "            ring = coords[-1][0]\n",
    "            in_ring = True\n",
    "        \n",
    "        elif in_ring and line.strip() == 'END':\n",
    "            # we are at the end of a ring, perhaps with more to come.\n",
    "            in_ring = False\n",
    "    \n",
    "        elif in_ring:\n",
    "            # we are in a ring and picking up new coordinates.\n",
    "            # CH mod: added in list() conversion of map as per Python 3 error described here\n",
    "            # https://stackoverflow.com/questions/36982858/object-of-type-map-has-no-len-in-python-3\n",
    "            ring.append(list(map(float, line.split())))\n",
    "    \n",
    "        elif not in_ring and line.strip() == 'END':\n",
    "            # we are at the end of the whole polygon.\n",
    "            break\n",
    "    \n",
    "        elif not in_ring and line.startswith('!'):\n",
    "            # we are at the start of a polygon part hole.\n",
    "            coords[-1][1].append([])\n",
    "            ring = coords[-1][1][-1]\n",
    "            in_ring = True\n",
    "    \n",
    "        elif not in_ring:\n",
    "            # we are at the start of a polygon part.\n",
    "            coords.append([[], []])\n",
    "            ring = coords[-1][0]\n",
    "            in_ring = True\n",
    "    \n",
    "    return MultiPolygon(coords)"
   ]
  },
  {
   "cell_type": "markdown",
   "metadata": {},
   "source": [
    "## Extract OSM using 10km buffered study region .poly files\n",
    "\n",
    "The idea with this step is to extract OSM for each buffered study region, and then this file would be used to build the all non-private roads, and pedestrian roads networks.  However there is apparently a bug with the OSMnx 'graph_from_file' command; as such, OSMnx networks were constructed using the OSM version current on Overpass.de at date of processing (2/10/2018)."
   ]
  },
  {
   "cell_type": "code",
   "execution_count": 5,
   "metadata": {
    "collapsed": false
   },
   "outputs": [
    {
     "name": "stdout",
     "output_type": "stream",
     "text": [
      " Extraction of .osm file for AlburyWodonga complete in 19.1 minutes.\n",
      " Extraction of .osm file for Ballarat complete in 19.2 minutes.\n",
      " Extraction of .osm file for Bendigo complete in 19.3 minutes.\n",
      " Extraction of .osm file for Cairns complete in 19.3 minutes.\n",
      " Extraction of .osm file for adelaide_gccsa_2016_10000m_0 complete in 19.5 minutes.\n",
      " Extraction of .osm file for bris_gccsa_2016_10000m_0 complete in 19.9 minutes.\n",
      " Extraction of .osm file for canberra_gccsa_2016_10000m_0 complete in 20.0 minutes.\n",
      " Extraction of .osm file for darwin_gccsa_2016_10000m_0 complete in 20.1 minutes.\n",
      " Extraction of .osm file for hobart_gccsa_2016_10000m_0 complete in 19.8 minutes.\n",
      " Extraction of .osm file for melb_gccsa_2016_10000m_0 complete in 20.4 minutes.\n",
      " Extraction of .osm file for mitchell_lga_2016_10000m_0 complete in 20.9 minutes.\n",
      " Extraction of .osm file for perth_gccsa_2016_10000m_0 complete in 21.4 minutes.\n",
      " Extraction of .osm file for syd_gccsa_2016_10000m_0 complete in 21.5 minutes.\n",
      " Extraction of .osm file for Geelong complete in 21.5 minutes.\n",
      " Extraction of .osm file for GoldCoast complete in 21.6 minutes.\n",
      " Extraction of .osm file for Launceston complete in 21.6 minutes.\n",
      " Extraction of .osm file for Mackay complete in 21.7 minutes.\n",
      " Extraction of .osm file for Newcastle complete in 21.8 minutes.\n",
      " Extraction of .osm file for SunshineCoast complete in 22.1 minutes.\n",
      " Extraction of .osm file for Toowoomba complete in 22.0 minutes.\n",
      " Extraction of .osm file for Townsville complete in 22.0 minutes.\n",
      " Extraction of .osm file for Wollongong complete in 22.3 minutes.\n",
      "\n",
      "Extracted (or attempted to extract) 0 OSM portions.\n",
      "Elapsed time was 457.0 minutes\n"
     ]
    }
   ],
   "source": [
    "# iterate of files within root or otherwise specified directory, noting all poly files\n",
    "\n",
    "# location of source OSM file\n",
    "osm_dir = 'D:/osm/planet_archives/planet-latest_20181001.osm.pbf'\n",
    "\n",
    "# location of boundary files to iterate over\n",
    "search_dir = 'D:/ntnl_li_2018_template/data/21Cities/OSM_Roads'\n",
    "\n",
    "# conversion settings\n",
    "exe = 'osmconvert64-0.8.8p.exe'\n",
    "exepath = 'D:/osm/'\n",
    "osm_format = 'osm'\n",
    "\n",
    "# output suffix\n",
    "suffix = '_20181001'\n",
    "\n",
    "count = 0\n",
    "# Start timing the code\n",
    "start_time = datetime.now()\n",
    "for root, dirs, files in os.walk(search_dir):\n",
    "    for file in files:\n",
    "        if file.endswith(\".poly\"):\n",
    "           # Extract OSM\n",
    "           subtime = datetime.now()\n",
    "           fullfile = os.path.join(root,file)\n",
    "           filename = os.path.splitext(file)[0]\n",
    "           studyregion = '{root}/{filename}{suffix}.{osm_format}'.format(root = root,\n",
    "                                                                         filename = filename,\n",
    "                                                                         suffix = suffix,\n",
    "                                                                         osm_format = osm_format)\n",
    "           command = '{osmconvert} {osm} -B={poly} -o={studyregion}'.format(osmconvert = exe, \n",
    "                                                                            osm = osm_dir,\n",
    "                                                                            poly = fullfile,\n",
    "                                                                            studyregion = studyregion)\n",
    "           sp.call(command, shell=True, cwd=exepath)\n",
    "           count+=1\n",
    "           print(' Extraction of .osm file for {} complete in {:.1f} minutes.'.format(filename,\n",
    "                                                                                  (datetime.now() - subtime).total_seconds()/60))\n",
    "            \n",
    "print('\\nExtracted (or attempted to extract) {} OSM portions.'.format(count))            \n",
    "print(\"Elapsed time was {:.1f} minutes\".format((datetime.now() - start_time).total_seconds()/60.0))"
   ]
  },
  {
   "cell_type": "markdown",
   "metadata": {},
   "source": [
    "## Get networks and save as graphs - Regional cities"
   ]
  },
  {
   "cell_type": "code",
   "execution_count": 22,
   "metadata": {
    "collapsed": false
   },
   "outputs": [
    {
     "name": "stdout",
     "output_type": "stream",
     "text": [
      "Saved graph object and shapefile for AlburyWodonga_10km in 1.3 minutes.\n",
      "Saved graph object and shapefile for Ballarat_10km in 1.4 minutes.\n",
      "Saved graph object and shapefile for Bendigo_10km in 1.0 minutes.\n",
      "Saved graph object and shapefile for Cairns_10km in 0.9 minutes.\n",
      "Saved graph object and shapefile for Geelong_10km in 2.1 minutes.\n",
      "Saved graph object and shapefile for GoldCoast_10km in 4.6 minutes.\n",
      "Saved graph object and shapefile for Launceston_10km in 0.8 minutes.\n",
      "Saved graph object and shapefile for Mackay_10km in 0.5 minutes.\n",
      "Saved graph object and shapefile for Newcastle_10km in 3.1 minutes.\n",
      "Saved graph object and shapefile for SunshineCoast_10km in 2.3 minutes.\n",
      "Saved graph object and shapefile for Toowoomba_10km in 1.0 minutes.\n",
      "Saved graph object and shapefile for Townsville_10km in 0.9 minutes.\n",
      "Saved graph object and shapefile for WesternSydney_10km in 10.7 minutes.\n",
      "Saved graph object and shapefile for Wollongong_10km in 2.5 minutes.\n",
      "Elapsed time was 2574.6 minutes\n"
     ]
    }
   ],
   "source": [
    "count = 0\n",
    "for root, dirs, files in os.walk(search_dir):\n",
    "    for file in files:\n",
    "        if file.endswith(\"10kmBuff.shp\"): \n",
    "           subtime = datetime.now()\n",
    "           fullfile = os.path.join(root,file)\n",
    "           filename = os.path.splitext(file)[0]\n",
    "           studyregion = filename.replace('Buff','')\n",
    "           # Extract pedestrian network\n",
    "           c = fiona.open(fullfile)   \n",
    "           polygon = shape(next(iter(c))['geometry'])\n",
    "           # Extract  complete non-private OSM network: \"all (non-private) OSM streets and paths\"\n",
    "           W = ox.graph_from_polygon(polygon,  network_type= 'all')\n",
    "           ox.save_graphml(W, filename=os.path.join(root,\n",
    "                                                         'osm_10km_{studyregion}_all{suffix}.graphml'.format(studyregion = studyregion,\n",
    "                                                                                                     suffix = suffix)), \n",
    "                           folder=None, gephi=False)\n",
    "           ox.save_graph_shapefile(W, \n",
    "                                   filename=os.path.join(root,\n",
    "                                                         'osm_10km_{studyregion}_all{suffix}'.format(studyregion = studyregion,\n",
    "                                                                                                     suffix = suffix))) \n",
    "           print('Saved graph object and shapefile for {} in {:.1f} minutes.'.format(studyregion,\n",
    "                                                                                  (datetime.now() - subtime).total_seconds()/60))         \n",
    "           count+=1          \n",
    "                 \n",
    "print(\"Elapsed time was {:.1f} minutes\".format((datetime.now() - start_time).total_seconds()/60.0))        "
   ]
  },
  {
   "cell_type": "code",
   "execution_count": 21,
   "metadata": {
    "collapsed": false
   },
   "outputs": [
    {
     "name": "stdout",
     "output_type": "stream",
     "text": [
      "Saved graph object and shapefile for AlburyWodonga_10km in 1.0 minutes.\n",
      "Saved graph object and shapefile for Ballarat_10km in 1.1 minutes.\n",
      "Saved graph object and shapefile for Bendigo_10km in 0.8 minutes.\n",
      "Saved graph object and shapefile for Cairns_10km in 0.7 minutes.\n",
      "Saved graph object and shapefile for Geelong_10km in 1.6 minutes.\n",
      "Saved graph object and shapefile for GoldCoast_10km in 4.4 minutes.\n",
      "Saved graph object and shapefile for Launceston_10km in 0.8 minutes.\n",
      "Saved graph object and shapefile for Mackay_10km in 0.6 minutes.\n",
      "Saved graph object and shapefile for Newcastle_10km in 3.2 minutes.\n",
      "Saved graph object and shapefile for SunshineCoast_10km in 2.2 minutes.\n",
      "Saved graph object and shapefile for Toowoomba_10km in 1.1 minutes.\n",
      "Saved graph object and shapefile for Townsville_10km in 0.8 minutes.\n",
      "Saved graph object and shapefile for WesternSydney_10km in 10.5 minutes.\n",
      "Saved graph object and shapefile for Wollongong_10km in 2.7 minutes.\n",
      "Elapsed time was 1628.1 minutes\n"
     ]
    }
   ],
   "source": [
    "count = 0\n",
    "for root, dirs, files in os.walk(search_dir):\n",
    "    for file in files:\n",
    "        if file.endswith(\"10kmBuff.shp\"): \n",
    "           subtime = datetime.now()\n",
    "           fullfile = os.path.join(root,file)\n",
    "           filename = os.path.splitext(file)[0]\n",
    "           studyregion = filename.replace('Buff','')\n",
    "           # Extract pedestrian network\n",
    "           c = fiona.open(fullfile)   \n",
    "           polygon = shape(next(iter(c))['geometry'])\n",
    "           W = ox.graph_from_polygon(polygon,  custom_filter= pedestrian)\n",
    "           ox.save_graphml(W, filename=os.path.join(root,\n",
    "                                                         'osm_10km_{studyregion}_pedestrian{suffix}.graphml'.format(studyregion = studyregion,\n",
    "                                                                                                     suffix = suffix)), \n",
    "                           folder=None, gephi=False)\n",
    "           ox.save_graph_shapefile(W, \n",
    "                                   filename=os.path.join(root,\n",
    "                                                         'osm_10km_{studyregion}_pedestrian{suffix}'.format(studyregion = studyregion,\n",
    "                                                                                                     suffix = suffix))) \n",
    "           print('Saved graph object and shapefile for {} in {:.1f} minutes.'.format(studyregion,\n",
    "                                                                                  (datetime.now() - subtime).total_seconds()/60))         \n",
    "           count+=1          \n",
    "                 \n",
    "print(\"Elapsed time was {:.1f} minutes\".format((datetime.now() - start_time).total_seconds()/60.0))   "
   ]
  },
  {
   "cell_type": "markdown",
   "metadata": {},
   "source": [
    "## Get networks and save as graphs - GCCSAs"
   ]
  },
  {
   "cell_type": "code",
   "execution_count": 24,
   "metadata": {
    "collapsed": false
   },
   "outputs": [
    {
     "name": "stdout",
     "output_type": "stream",
     "text": [
      "Saved graph object and shapefile for adelaide_gccsa_2016_10km in 15.5 minutes.\n",
      "Saved graph object and shapefile for bris_gccsa_2016_10km in 27.2 minutes.\n",
      "Saved graph object and shapefile for canberra_gccsa_2016_10km in 11.9 minutes.\n",
      "Saved graph object and shapefile for darwin_gccsa_2016_10km in 1.8 minutes.\n",
      "Saved graph object and shapefile for hobart_gccsa_2016_10km in 2.8 minutes.\n",
      "Saved graph object and shapefile for melb_gccsa_2016_10km in 44.8 minutes.\n",
      "Saved graph object and shapefile for mitchell_lga_2016_10km in 2.5 minutes.\n",
      "Saved graph object and shapefile for perth_gccsa_2016_10km in 20.2 minutes.\n",
      "Saved graph object and shapefile for syd_gccsa_2016_10km in 32.1 minutes.\n",
      "Elapsed time was 2820.0 minutes\n"
     ]
    }
   ],
   "source": [
    "count = 0\n",
    "# this is to extract networks for GCCSAs; new shape file naming convention is used\n",
    "for root, dirs, files in os.walk(search_dir):\n",
    "    for file in files:\n",
    "        if file.endswith(\"10000m_epsg4326.shp\"): \n",
    "           subtime = datetime.now()\n",
    "           fullfile = os.path.join(root,file)\n",
    "           filename = os.path.splitext(file)[0]\n",
    "           studyregion = filename.replace('10000m_epsg4326','10km')\n",
    "           # Extract pedestrian network\n",
    "           c = fiona.open(fullfile)   \n",
    "           polygon = shape(next(iter(c))['geometry'])\n",
    "           # Extract  complete non-private OSM network: \"all (non-private) OSM streets and paths\"\n",
    "           W = ox.graph_from_polygon(polygon,  network_type= 'all')\n",
    "           ox.save_graphml(W, filename=os.path.join(root,\n",
    "                                                         'osm_10km_{studyregion}_all{suffix}.graphml'.format(studyregion = studyregion,\n",
    "                                                                                                     suffix = suffix)), \n",
    "                           folder=None, gephi=False)\n",
    "           ox.save_graph_shapefile(W, \n",
    "                                   filename=os.path.join(root,\n",
    "                                                         'osm_10km_{studyregion}_all{suffix}'.format(studyregion = studyregion,\n",
    "                                                                                                     suffix = suffix))) \n",
    "           W = ox.graph_from_polygon(polygon,  custom_filter= pedestrian)\n",
    "           ox.save_graphml(W, filename=os.path.join(root,\n",
    "                                                         'osm_10km_{studyregion}_pedestrian{suffix}.graphml'.format(studyregion = studyregion,\n",
    "                                                                                                     suffix = suffix)), \n",
    "                           folder=None, gephi=False)\n",
    "           ox.save_graph_shapefile(W, \n",
    "                                   filename=os.path.join(root,\n",
    "                                                         'osm_10km_{studyregion}_pedestrian{suffix}'.format(studyregion = studyregion,\n",
    "                                                                                                     suffix = suffix))) \n",
    "           print('Saved graph object and shapefile for {} in {:.1f} minutes.'.format(studyregion,\n",
    "                                                                                  (datetime.now() - subtime).total_seconds()/60))         \n",
    "           count+=1          \n",
    "                 \n",
    "print(\"Elapsed time was {:.1f} minutes\".format((datetime.now() - start_time).total_seconds()/60.0))    "
   ]
  },
  {
   "cell_type": "markdown",
   "metadata": {},
   "source": [
    "## Repeat OSM extraction for Bris using not most current data to compare with Julianna's work"
   ]
  },
  {
   "cell_type": "code",
   "execution_count": 25,
   "metadata": {
    "collapsed": false
   },
   "outputs": [
    {
     "name": "stdout",
     "output_type": "stream",
     "text": [
      " Extraction of .osm file for bris_gccsa_2016_10000m complete in 0.3 minutes.\n",
      "\n",
      "Extracted (or attempted to extract) 1 OSM portions.\n",
      "Elapsed time was 0.3 minutes\n"
     ]
    }
   ],
   "source": [
    "# iterate of files within root or otherwise specified directory, noting all poly files\n",
    "\n",
    "# location of source OSM file - dated 8 Feb 2018\n",
    "osm_dir = 'D:/osm/australia-oceania-latest.osm.pbf'\n",
    "\n",
    "# location of boundary files to iterate over\n",
    "search_dir = 'D:/ntnl_li_2018_template/data/21Cities/OSM_Roads/GCCSAs/Brisbane'\n",
    "\n",
    "# conversion settings\n",
    "exe = 'osmconvert64-0.8.8p.exe'\n",
    "exepath = 'D:/osm/'\n",
    "osm_format = 'osm'\n",
    "\n",
    "# output suffix\n",
    "suffix = '_20180208'\n",
    "\n",
    "count = 0\n",
    "# Start timing the code\n",
    "start_time = datetime.now()\n",
    "for root, dirs, files in os.walk(search_dir):\n",
    "    for file in files:\n",
    "        if file.endswith(\".poly\"):\n",
    "           # Extract OSM\n",
    "           subtime = datetime.now()\n",
    "           fullfile = os.path.join(root,file)\n",
    "           filename = os.path.splitext(file)[0]\n",
    "           studyregion = '{root}/{filename}{suffix}.{osm_format}'.format(root = root,\n",
    "                                                                         filename = filename,\n",
    "                                                                         suffix = suffix,\n",
    "                                                                         osm_format = osm_format)\n",
    "           command = '{osmconvert} {osm} -B={poly} -o={studyregion}'.format(osmconvert = exe, \n",
    "                                                                            osm = osm_dir,\n",
    "                                                                            poly = fullfile,\n",
    "                                                                            studyregion = studyregion)\n",
    "           sp.call(command, shell=True, cwd=exepath)\n",
    "           count+=1\n",
    "           print(' Extraction of .osm file for {} complete in {:.1f} minutes.'.format(filename,\n",
    "                                                                                  (datetime.now() - subtime).total_seconds()/60))\n",
    "            \n",
    "print('\\nExtracted (or attempted to extract) {} OSM portions.'.format(count))            \n",
    "print(\"Elapsed time was {:.1f} minutes\".format((datetime.now() - start_time).total_seconds()/60.0))"
   ]
  }
 ],
 "metadata": {
  "kernelspec": {
   "display_name": "osmnx",
   "language": "python",
   "name": "osmnx"
  },
  "language_info": {
   "codemirror_mode": {
    "name": "ipython",
    "version": 3
   },
   "file_extension": ".py",
   "mimetype": "text/x-python",
   "name": "python",
   "nbconvert_exporter": "python",
   "pygments_lexer": "ipython3",
   "version": "3.6.5"
  }
 },
 "nbformat": 4,
 "nbformat_minor": 2
}
