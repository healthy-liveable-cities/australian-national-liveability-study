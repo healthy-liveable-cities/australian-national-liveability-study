{
 "cells": [
  {
   "cell_type": "markdown",
   "metadata": {},
   "source": [
    "# Pedestrian street networks for 21 cities\n",
    "Using OpenStreetMap as a source for \n",
    "* complete road network, and \n",
    "* a pedestrian 'walk/cycle'network. \n",
    "* calculating intersection density for the pedestrian network\n",
    "\n",
    "The process iterates over a list of city names, whose 10km buffered boundary shape files have been pre-prepared.\n",
    "\n",
    "Carl Higgs\n",
    "1 October 2018"
   ]
  },
  {
   "cell_type": "markdown",
   "metadata": {},
   "source": [
    "## OSM set up"
   ]
  },
  {
   "cell_type": "code",
   "execution_count": 2,
   "metadata": {
    "collapsed": true
   },
   "outputs": [],
   "source": [
    "# Libraries used for OSM conversion\n",
    "import os\n",
    "import sys\n",
    "import subprocess as sp\n",
    "from datetime import datetime\n",
    "\n",
    "# Libraries used for OSMnx analyses and output\n",
    "import networkx as nx\n",
    "import osmnx as ox\n",
    "import requests\n",
    "import fiona\n",
    "ox.config(use_cache=True, log_console=True)\n",
    "ox.__version__\n",
    "\n",
    "from shapely.geometry import shape, MultiPolygon, Polygon\n",
    "\n",
    "# define pedestrian network custom filter (based on OSMnx 'walk' network type, without the cycling exclusion)\n",
    "pedestrian = (\n",
    "             '[\"area\"!~\"yes\"]' \n",
    "             '[\"highway\"!~\"motor|proposed|construction|abandoned|platform|raceway\"]'\n",
    "             '[\"foot\"!~\"no\"]'  \n",
    "             '[\"service\"!~\"private\"]' \n",
    "             '[\"access\"!~\"private\"]'\n",
    "             )"
   ]
  },
  {
   "cell_type": "markdown",
   "metadata": {},
   "source": [
    "## Extract OSM using 10km buffered study region .poly files\n",
    "\n",
    "The idea with this step is to extract OSM for each buffered study region, and then this file would be used to build the all non-private roads, and pedestrian roads networks.  However there is apparently a bug with the OSMnx 'graph_from_file' command; as such, OSMnx networks were constructed using the OSM version current on Overpass.de at date of processing (2/10/2018)."
   ]
  },
  {
   "cell_type": "code",
   "execution_count": 5,
   "metadata": {
    "collapsed": false
   },
   "outputs": [
    {
     "name": "stdout",
     "output_type": "stream",
     "text": [
      " Extraction of .osm file for AlburyWodonga complete in 19.1 minutes.\n",
      " Extraction of .osm file for Ballarat complete in 19.2 minutes.\n",
      " Extraction of .osm file for Bendigo complete in 19.3 minutes.\n",
      " Extraction of .osm file for Cairns complete in 19.3 minutes.\n",
      " Extraction of .osm file for adelaide_gccsa_2016_10000m_0 complete in 19.5 minutes.\n",
      " Extraction of .osm file for bris_gccsa_2016_10000m_0 complete in 19.9 minutes.\n",
      " Extraction of .osm file for canberra_gccsa_2016_10000m_0 complete in 20.0 minutes.\n",
      " Extraction of .osm file for darwin_gccsa_2016_10000m_0 complete in 20.1 minutes.\n",
      " Extraction of .osm file for hobart_gccsa_2016_10000m_0 complete in 19.8 minutes.\n",
      " Extraction of .osm file for melb_gccsa_2016_10000m_0 complete in 20.4 minutes.\n",
      " Extraction of .osm file for mitchell_lga_2016_10000m_0 complete in 20.9 minutes.\n",
      " Extraction of .osm file for perth_gccsa_2016_10000m_0 complete in 21.4 minutes.\n",
      " Extraction of .osm file for syd_gccsa_2016_10000m_0 complete in 21.5 minutes.\n",
      " Extraction of .osm file for Geelong complete in 21.5 minutes.\n",
      " Extraction of .osm file for GoldCoast complete in 21.6 minutes.\n",
      " Extraction of .osm file for Launceston complete in 21.6 minutes.\n",
      " Extraction of .osm file for Mackay complete in 21.7 minutes.\n",
      " Extraction of .osm file for Newcastle complete in 21.8 minutes.\n",
      " Extraction of .osm file for SunshineCoast complete in 22.1 minutes.\n",
      " Extraction of .osm file for Toowoomba complete in 22.0 minutes.\n",
      " Extraction of .osm file for Townsville complete in 22.0 minutes.\n",
      " Extraction of .osm file for Wollongong complete in 22.3 minutes.\n",
      "\n",
      "Extracted (or attempted to extract) 0 OSM portions.\n",
      "Elapsed time was 457.0 minutes\n"
     ]
    }
   ],
   "source": [
    "# iterate of files within root or otherwise specified directory, noting all poly files\n",
    "\n",
    "# location of source OSM file\n",
    "osm_dir = 'D:/osm/planet_archives/planet-latest_20181001.osm.pbf'\n",
    "\n",
    "# location of boundary files to iterate over\n",
    "search_dir = 'D:/ntnl_li_2018_template/data/study_region/'\n",
    "\n",
    "# conversion settings\n",
    "exe = 'osmconvert64-0.8.8p.exe'\n",
    "exepath = 'D:/osm/'\n",
    "osm_format = 'osm'\n",
    "\n",
    "# output suffix\n",
    "suffix = '_20181001'\n",
    "\n",
    "count = 0\n",
    "# Start timing the code\n",
    "start_time = datetime.now()\n",
    "for root, dirs, files in os.walk(search_dir):\n",
    "    for file in files:\n",
    "        if file.endswith(\".poly\"):\n",
    "           # Extract OSM\n",
    "           subtime = datetime.now()\n",
    "           fullfile = os.path.join(root,file)\n",
    "           filename = os.path.splitext(file)[0]\n",
    "           studyregion = '{root}/{filename}{suffix}.{osm_format}'.format(root = root,\n",
    "                                                                         filename = filename,\n",
    "                                                                         suffix = suffix,\n",
    "                                                                         osm_format = osm_format)\n",
    "           command = '{osmconvert} {osm} -B={poly} -o={studyregion}'.format(osmconvert = exe, \n",
    "                                                                            osm = osm_dir,\n",
    "                                                                            poly = fullfile,\n",
    "                                                                            studyregion = studyregion)\n",
    "           sp.call(command, shell=True, cwd=exepath)\n",
    "           count+=1\n",
    "           print(' Extraction of .osm file for {} complete in {:.1f} minutes.'.format(filename,\n",
    "                                                                                  (datetime.now() - subtime).total_seconds()/60))\n",
    "            \n",
    "print('\\nExtracted (or attempted to extract) {} OSM portions.'.format(count))            \n",
    "print(\"Elapsed time was {:.1f} minutes\".format((datetime.now() - start_time).total_seconds()/60.0))"
   ]
  },
  {
   "cell_type": "markdown",
   "metadata": {},
   "source": [
    "Note that the '21 cities' directory has since been re-set up as 'study_regions'. "
   ]
  },
  {
   "cell_type": "markdown",
   "metadata": {},
   "source": [
    "## Get networks and save as graphs (retain_all = True)"
   ]
  },
  {
   "cell_type": "code",
   "execution_count": null,
   "metadata": {
    "collapsed": false
   },
   "outputs": [],
   "source": [
    "# location of boundary files to iterate over\n",
    "search_dir = 'D:/ntnl_li_2018_template/data/study_region/'\n",
    "# output suffix\n",
    "suffix = '_20181001'\n",
    "count = 0\n",
    "for root, dirs, files in os.walk(search_dir):\n",
    "    for file in files:\n",
    "        if \"10kmBuff\" in file: \n",
    "           os.rename(file,file.replace('10kmBuff','_sua_2018_10000m_epsg4326').lower())\n",
    "        if file.endswith(\"10000m_epsg4326.shp\"): \n",
    "           subtime = datetime.now()\n",
    "           fullfile = os.path.join(root,file)\n",
    "           filename = os.path.splitext(file)[0]\n",
    "           studyregion = filename.replace('2016','2018')\n",
    "           # Extract pedestrian network\n",
    "           c = fiona.open(fullfile)   \n",
    "           polygon = shape(next(iter(c))['geometry'])\n",
    "           # Extract  complete non-private OSM network: \"all (non-private) OSM streets and paths\"\n",
    "           W = ox.graph_from_polygon(polygon,  network_type= 'all', retain_all = True)\n",
    "           ox.save_graphml(W, filename=os.path.join(root,\n",
    "                                                         'osm_{studyregion}_all{suffix}.graphml'.format(studyregion = studyregion,\n",
    "                                                                                                     suffix = suffix)), \n",
    "                           folder=None, gephi=False)\n",
    "           ox.save_graph_shapefile(W, \n",
    "                                   filename=os.path.join(root,\n",
    "                                                         'osm_{studyregion}_all{suffix}'.format(studyregion = studyregion,\n",
    "                                                                                                     suffix = suffix)))\n",
    "           W = ox.graph_from_polygon(polygon,  custom_filter= pedestrian, retain_all = True)\n",
    "           ox.save_graphml(W, filename=os.path.join(root,\n",
    "                                                         'osm_{studyregion}_pedestrian{suffix}.graphml'.format(studyregion = studyregion,\n",
    "                                                                                                     suffix = suffix)), \n",
    "                           folder=None, gephi=False)\n",
    "           ox.save_graph_shapefile(W, \n",
    "                                   filename=os.path.join(root,\n",
    "                                                         'osm_{studyregion}_pedestrian{suffix}'.format(studyregion = studyregion,\n",
    "                                                                                                     suffix = suffix)))  \n",
    "           print('Saved graph object and shapefile for {} in {:.1f} minutes.'.format(studyregion,\n",
    "                                                                                  (datetime.now() - subtime).total_seconds()/60))         \n",
    "           count+=1          \n",
    "                 \n",
    "print(\"Elapsed time was {:.1f} minutes\".format((datetime.now() - start_time).total_seconds()/60.0))        "
   ]
  },
  {
   "cell_type": "markdown",
   "metadata": {},
   "source": [
    "** Note that the below analyses are tangential and were performed prior to the above **"
   ]
  },
  {
   "cell_type": "markdown",
   "metadata": {},
   "source": [
    "## Example of clean intersections for Melbourne"
   ]
  },
  {
   "cell_type": "code",
   "execution_count": 2,
   "metadata": {
    "collapsed": true
   },
   "outputs": [],
   "source": [
    "# We load up the saved network for nodes only; re-projection of nodes is cheap time-wise, but edges are expensive\n",
    "G = ox.load_graphml('D:/ntnl_li_2018_template/data/study_region/melb/osm_10km_melb_gccsa_2016_10km_pedestrian_20181001.graphml')"
   ]
  },
  {
   "cell_type": "code",
   "execution_count": null,
   "metadata": {
    "collapsed": true
   },
   "outputs": [],
   "source": [
    "G_proj = ox.project_graph(G)"
   ]
  },
  {
   "cell_type": "code",
   "execution_count": null,
   "metadata": {
    "collapsed": true
   },
   "outputs": [],
   "source": [
    "intersections = ox.clean_intersections(G_proj, tolerance=15, dead_ends=False)"
   ]
  },
  {
   "cell_type": "code",
   "execution_count": null,
   "metadata": {
    "collapsed": true
   },
   "outputs": [],
   "source": [
    "points = np.array([point.xy for point in intersections])"
   ]
  },
  {
   "cell_type": "markdown",
   "metadata": {},
   "source": [
    "## Test brisbane with retain_all = 'True'\n",
    "\n",
    "Does this fix the island issue (Stradbroke networks missing) --- answer = yes."
   ]
  },
  {
   "cell_type": "code",
   "execution_count": 7,
   "metadata": {
    "collapsed": false
   },
   "outputs": [
    {
     "name": "stdout",
     "output_type": "stream",
     "text": [
      "Saved graph object and shapefile for bris_gccsa_2016_10km in 24.8 minutes.\n",
      "Elapsed time was 24.8 minutes\n"
     ]
    }
   ],
   "source": [
    "# iterate of files within root or otherwise specified directory, noting all poly files\n",
    "\n",
    "# location of boundary files to iterate over\n",
    "search_dir = 'D:/ntnl_li_2018_template/data/study_region/bris'\n",
    "\n",
    "# output suffix\n",
    "suffix = '_20181011_retain_all'\n",
    "\n",
    "count = 0\n",
    "# Start timing the code\n",
    "start_time = datetime.now()\n",
    "for root, dirs, files in os.walk(search_dir):\n",
    "    for file in files:\n",
    "        if file.endswith(\"10000m_epsg4326.shp\"): \n",
    "           subtime = datetime.now()\n",
    "           fullfile = os.path.join(root,file)\n",
    "           filename = os.path.splitext(file)[0]\n",
    "           studyregion = filename.replace('10000m_epsg4326','10km')\n",
    "           # Extract pedestrian network\n",
    "           c = fiona.open(fullfile)   \n",
    "           polygon = shape(next(iter(c))['geometry'])\n",
    "           # Extract  complete non-private OSM network: \"all (non-private) OSM streets and paths\"\n",
    "           W = ox.graph_from_polygon(polygon,  network_type= 'all',retain_all ='True')\n",
    "           ox.save_graphml(W, filename=os.path.join(root,\n",
    "                                                         'osm_10km_{studyregion}_all{suffix}.graphml'.format(studyregion = studyregion,\n",
    "                                                                                                     suffix = suffix)), \n",
    "                           folder=None, gephi=False)\n",
    "           ox.save_graph_shapefile(W, \n",
    "                                   filename=os.path.join(root,\n",
    "                                                         'osm_10km_{studyregion}_all{suffix}'.format(studyregion = studyregion,\n",
    "                                                                                                     suffix = suffix))) \n",
    "           W = ox.graph_from_polygon(polygon,  custom_filter= pedestrian,retain_all ='True')\n",
    "           ox.save_graphml(W, filename=os.path.join(root,\n",
    "                                                         'osm_10km_{studyregion}_pedestrian{suffix}.graphml'.format(studyregion = studyregion,\n",
    "                                                                                                     suffix = suffix)), \n",
    "                           folder=None, gephi=False)\n",
    "           ox.save_graph_shapefile(W, \n",
    "                                   filename=os.path.join(root,\n",
    "                                                         'osm_10km_{studyregion}_pedestrian{suffix}'.format(studyregion = studyregion,\n",
    "                                                                                                     suffix = suffix))) \n",
    "           print('Saved graph object and shapefile for {} in {:.1f} minutes.'.format(studyregion,\n",
    "                                                                                  (datetime.now() - subtime).total_seconds()/60))         \n",
    "           count+=1          \n",
    "                 \n",
    "print(\"Elapsed time was {:.1f} minutes\".format((datetime.now() - start_time).total_seconds()/60.0))  "
   ]
  },
  {
   "cell_type": "markdown",
   "metadata": {},
   "source": [
    "## Test brisbane with clean_periphery = 'False'\n",
    "Does this fix the island issue (Stradbroke networks missing) --- No."
   ]
  },
  {
   "cell_type": "code",
   "execution_count": 8,
   "metadata": {
    "collapsed": false
   },
   "outputs": [
    {
     "name": "stdout",
     "output_type": "stream",
     "text": [
      "Saved graph object and shapefile for bris_gccsa_2016_10km in 25.2 minutes.\n",
      "Elapsed time was 25.2 minutes\n"
     ]
    }
   ],
   "source": [
    "# iterate of files within root or otherwise specified directory, noting all poly files\n",
    "\n",
    "# location of boundary files to iterate over\n",
    "search_dir = 'D:/ntnl_li_2018_template/data/study_region/bris'\n",
    "\n",
    "# output suffix\n",
    "suffix = '_20181011_no_clean_periphery'\n",
    "\n",
    "count = 0\n",
    "# Start timing the code\n",
    "start_time = datetime.now()\n",
    "for root, dirs, files in os.walk(search_dir):\n",
    "    for file in files:\n",
    "        if file.endswith(\"10000m_epsg4326.shp\"): \n",
    "           subtime = datetime.now()\n",
    "           fullfile = os.path.join(root,file)\n",
    "           filename = os.path.splitext(file)[0]\n",
    "           studyregion = filename.replace('10000m_epsg4326','10km')\n",
    "           # Extract pedestrian network\n",
    "           c = fiona.open(fullfile)   \n",
    "           polygon = shape(next(iter(c))['geometry'])\n",
    "           # Extract  complete non-private OSM network: \"all (non-private) OSM streets and paths\"\n",
    "           W = ox.graph_from_polygon(polygon,  network_type= 'all',clean_periphery ='False')\n",
    "           ox.save_graphml(W, filename=os.path.join(root,\n",
    "                                                         'osm_10km_{studyregion}_all{suffix}.graphml'.format(studyregion = studyregion,\n",
    "                                                                                                     suffix = suffix)), \n",
    "                           folder=None, gephi=False)\n",
    "           ox.save_graph_shapefile(W, \n",
    "                                   filename=os.path.join(root,\n",
    "                                                         'osm_10km_{studyregion}_all{suffix}'.format(studyregion = studyregion,\n",
    "                                                                                                     suffix = suffix))) \n",
    "           W = ox.graph_from_polygon(polygon,  custom_filter= pedestrian,clean_periphery ='False')\n",
    "           ox.save_graphml(W, filename=os.path.join(root,\n",
    "                                                         'osm_10km_{studyregion}_pedestrian{suffix}.graphml'.format(studyregion = studyregion,\n",
    "                                                                                                     suffix = suffix)), \n",
    "                           folder=None, gephi=False)\n",
    "           ox.save_graph_shapefile(W, \n",
    "                                   filename=os.path.join(root,\n",
    "                                                         'osm_10km_{studyregion}_pedestrian{suffix}'.format(studyregion = studyregion,\n",
    "                                                                                                     suffix = suffix))) \n",
    "           print('Saved graph object and shapefile for {} in {:.1f} minutes.'.format(studyregion,\n",
    "                                                                                  (datetime.now() - subtime).total_seconds()/60))         \n",
    "           count+=1          \n",
    "                 \n",
    "print(\"Elapsed time was {:.1f} minutes\".format((datetime.now() - start_time).total_seconds()/60.0))  "
   ]
  },
  {
   "cell_type": "code",
   "execution_count": null,
   "metadata": {
    "collapsed": true
   },
   "outputs": [],
   "source": []
  }
 ],
 "metadata": {
  "kernelspec": {
   "display_name": "osmnx",
   "language": "python",
   "name": "osmnx"
  },
  "language_info": {
   "codemirror_mode": {
    "name": "ipython",
    "version": 3
   },
   "file_extension": ".py",
   "mimetype": "text/x-python",
   "name": "python",
   "nbconvert_exporter": "python",
   "pygments_lexer": "ipython3",
   "version": "3.6.5"
  }
 },
 "nbformat": 4,
 "nbformat_minor": 2
}
