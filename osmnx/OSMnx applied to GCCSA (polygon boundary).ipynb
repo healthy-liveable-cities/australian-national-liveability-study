{
 "cells": [
  {
   "cell_type": "markdown",
   "metadata": {},
   "source": [
    "# Pedestrian street networks for Australian Captial cities\n",
    "\n",
    "Using Openstreetmap as a source for pedestrian street networks derived using osmnx by way of combination of 'walk' and 'bike' networks.  The 10km buffered Greater Capital City areas (according to ABS 2016 definition) in EPSG 4326 WGS84 projection are used as a polygon boundary for the network areas.\n",
    "\n",
    "First, the network for Melbourne is calculated as a proof of concept; then, the process is generalised to iterate over a list of city names contained in the boundary shape file names.\n",
    "\n",
    "Processing of Melbourne took approximately 40 minutes; so, if all goes well it is envisaged that the 7 city loop will be complete in under 4 hours (noting that Melbourne is a particularly large and complex network)."
   ]
  },
  {
   "cell_type": "code",
   "execution_count": 3,
   "metadata": {
    "collapsed": false
   },
   "outputs": [],
   "source": [
    "import networkx as nx\n",
    "import osmnx as ox\n",
    "import requests\n",
    "import matplotlib.cm as cm\n",
    "import matplotlib.colors as colors\n",
    "import fiona\n",
    "ox.config(use_cache=True, log_console=True)\n",
    "ox.__version__\n",
    "\n",
    "from shapely.geometry import shape "
   ]
  },
  {
   "cell_type": "markdown",
   "metadata": {},
   "source": [
    "Here are the options for network types, and what they mean in terms of edge definitions:\n",
    "\n",
    "• drive: get drivable public streets (but not service roads)\n",
    "• drive_service: get drivable public streets including service roads\n",
    "• walk: get all streets and paths that pedestrians can use (this network\n",
    "type ignores one-way directionality by always connecting adjacent\n",
    "nodes with reciprocal directed edges)\n",
    "• bike: get all streets and paths that cyclists can use\n",
    "• all: download all (non-private) OpenStreetMap streets and paths\n",
    "• all_private: download all OpenStreetMap streets and paths, including\n",
    "private-access\n",
    "\n",
    "In this notebook we plan to get the Walk and Bike networks for the Melbourne ABS 2016 GCCSA area, and combine these for use as a pedestrian walkable network.  In the Melbourne context, it is considered that a pedestrian may go anywhere that a cyclist might go (the reverse does not hold)."
   ]
  },
  {
   "cell_type": "code",
   "execution_count": 7,
   "metadata": {
    "collapsed": false
   },
   "outputs": [],
   "source": [
    "# get GCCSA shape file as polygon\n",
    "c = fiona.open('D:/ntnl_li_2018_template/data/study_region/melb_gccsa_2016_10000m.shp')\n",
    "pol = next(iter(c))\n",
    "geom = shape(pol['geometry'])"
   ]
  },
  {
   "cell_type": "markdown",
   "metadata": {},
   "source": [
    "## Get networks and save as graphs - Melbourne"
   ]
  },
  {
   "cell_type": "code",
   "execution_count": 9,
   "metadata": {
    "collapsed": true
   },
   "outputs": [],
   "source": [
    "# retrieve walking network bounded by GCCSA  (commenced at 14:32 27/6/2018)\n",
    "W = ox.graph_from_polygon(geom, network_type='walk')\n",
    "# fig, ax = ox.plot_graph(W)\n",
    "\n",
    "# save graph to disk as shapefile \n",
    "ox.save_graph_shapefile(W, filename='osm_greater_melb_walk_20180627')"
   ]
  },
  {
   "cell_type": "code",
   "execution_count": 10,
   "metadata": {
    "collapsed": false
   },
   "outputs": [],
   "source": [
    "# retrieve cycling network bounded by GCCSA\n",
    "B = ox.graph_from_polygon(geom, network_type='bike')\n",
    "# fig, ax = ox.plot_graph(B)\n",
    "\n",
    "# save graph to disk as shapefile \n",
    "ox.save_graph_shapefile(B, filename='osm_greater_melb_bike_20180627')\n"
   ]
  },
  {
   "cell_type": "code",
   "execution_count": 11,
   "metadata": {
    "collapsed": true
   },
   "outputs": [],
   "source": [
    "P = nx.compose(W,B)\n",
    "# save graph to disk as shapefile \n",
    "ox.save_graph_shapefile(P, filename='osm_greater_melb_bike-walk_combined_20180627')"
   ]
  },
  {
   "cell_type": "markdown",
   "metadata": {},
   "source": [
    "## Get networks and save as graphs - Other cities"
   ]
  },
  {
   "cell_type": "code",
   "execution_count": 18,
   "metadata": {
    "collapsed": false
   },
   "outputs": [],
   "source": [
    "cities = ['adelaide','bris','canberra','darwin','hobart','perth','syd']\n",
    "geom = []\n",
    "for city in cities:\n",
    "    c = fiona.open('D:/ntnl_li_2018_template/data/study_region/wgs84_epsg4326/{}_gccsa_2016_10000m.shp'.format(city))\n",
    "    pol = next(iter(c))\n",
    "    geom.append(shape(pol['geometry']))"
   ]
  },
  {
   "cell_type": "code",
   "execution_count": null,
   "metadata": {
    "collapsed": false
   },
   "outputs": [],
   "source": [
    "for city in cities:\n",
    "    # Retrieve and save walking network bounded by GCCSA\n",
    "    W = ox.graph_from_polygon(geom[cities.index(city)], network_type='walk')\n",
    "    ox.save_graph_shapefile(W, filename='osm_gccsa10km_{}_walk_20180627'.format(city))   \n",
    "    # Retrieve and save bike network bounded by GCCSA\n",
    "    B = ox.graph_from_polygon(geom[cities.index(city)], network_type='bike')\n",
    "    ox.save_graph_shapefile(B, filename='osm_gccsa10km_{}_bike_20180627'.format(city))\n",
    "    # Combine and save walking and bike networks\n",
    "    P = nx.compose(W,B)\n",
    "    ox.save_graph_shapefile(P, filename='osm_greater_{}_bike-walk_combined_20180627'.format(city))"
   ]
  },
  {
   "cell_type": "code",
   "execution_count": null,
   "metadata": {
    "collapsed": true
   },
   "outputs": [],
   "source": []
  }
 ],
 "metadata": {
  "kernelspec": {
   "display_name": "Python [conda env:OSMNX]",
   "language": "python",
   "name": "conda-env-OSMNX-py"
  },
  "language_info": {
   "codemirror_mode": {
    "name": "ipython",
    "version": 3
   },
   "file_extension": ".py",
   "mimetype": "text/x-python",
   "name": "python",
   "nbconvert_exporter": "python",
   "pygments_lexer": "ipython3",
   "version": "3.6.5"
  }
 },
 "nbformat": 4,
 "nbformat_minor": 2
}
